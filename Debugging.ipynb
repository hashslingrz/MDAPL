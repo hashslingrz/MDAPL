{
 "cells": [
  {
   "cell_type": "markdown",
   "metadata": {},
   "source": [
    "# Debugging\n",
    "\n",
    "The quick brown fox jumps over the lazy dog.\n",
    "```{helloworld}\n",
    "```\n",
    "Lorem ipsum...\n",
    "```{note}\n",
    "Test note\n",
    "```\n",
    "Hello, world!\n",
    "```{todo}\n",
    "Bake cake.\n",
    "```\n",
    "```{todo}\n",
    "Eat cake.\n",
    "```\n",
    "```{todolist}\n",
    "```\n"
   ]
  }
 ],
 "metadata": {
  "kernelspec": {
   "display_name": "Dyalog APL",
   "language": "apl",
   "name": "dyalog-kernel"
  },
  "language_info": {
   "file_extension": ".apl",
   "mimetype": "text/apl",
   "name": "APL"
  },
  "toc": {
   "base_numbering": 1,
   "nav_menu": {},
   "number_sections": false,
   "sideBar": true,
   "skip_h1_title": false,
   "title_cell": "Table of Contents",
   "title_sidebar": "Contents",
   "toc_cell": false,
   "toc_position": {},
   "toc_section_display": true,
   "toc_window_display": false
  }
 },
 "nbformat": 4,
 "nbformat_minor": 4
}
